{
 "cells": [
  {
   "cell_type": "markdown",
   "metadata": {},
   "source": [
    "# Loops and Conditions: Break, Pass, and Continue Statements"
   ]
  },
  {
   "cell_type": "markdown",
   "metadata": {},
   "source": [
    "Please complete this assignment with your small group. Discussion is encouraged and a completed version is due before the next class."
   ]
  },
  {
   "cell_type": "markdown",
   "metadata": {},
   "source": [
    "## `break`, `pass`, and `continue`"
   ]
  },
  {
   "cell_type": "markdown",
   "metadata": {},
   "source": [
    "Here is a quick overview of these three statements:\n",
    "- `break`: exit the code block and stop iterating\n",
    "- `pass`: used when there is a **condition** under which no code should be executed \n",
    "- `continue`: ignore any code below and start the next iteration of the **loop** "
   ]
  },
  {
   "cell_type": "markdown",
   "metadata": {},
   "source": [
    "Please note that `pass` and commented lines are different. Comments are ignored by the interpreter whereas `pass` statements are not:"
   ]
  },
  {
   "cell_type": "code",
   "execution_count": null,
   "metadata": {},
   "outputs": [],
   "source": [
    "# INCORRECT SYNTAX\n",
    "if 1+1 == 2:\n",
    "    # do nothing"
   ]
  },
  {
   "cell_type": "code",
   "execution_count": 3,
   "metadata": {},
   "outputs": [],
   "source": [
    "# CORRECT SYNTAX\n",
    "if 1+1 == 2:\n",
    "    # do nothing\n",
    "    pass"
   ]
  },
  {
   "cell_type": "markdown",
   "metadata": {},
   "source": [
    "# Examples Using Control Statements:"
   ]
  },
  {
   "cell_type": "markdown",
   "metadata": {},
   "source": [
    "#### `Break`: This code will let a user guess the \"secret number\" and will loop until the correct number is guessed.\n",
    "\n",
    "In this example, note that \"while True\" causes an **infinite loop** and will keep iterating until we tell it to stop! \n",
    "\n",
    "This is because the boolean `True` will always evaluate to `True`. We need to use a statement like `break` to exit the loop. "
   ]
  },
  {
   "cell_type": "code",
   "execution_count": null,
   "metadata": {},
   "outputs": [],
   "source": [
    "# Set secret_number to whatever you want!\n",
    "secret_number = 9\n",
    "\n",
    "while True:                                              # This loop will keep iterating until we stop it.\n",
    "    user_guess = int(input(\"Guess the secret number:\"))  # Have the user guess a number\n",
    "    if (user_guess == secret_number):                    # Compare the guess to the secret number\n",
    "        print(\"You win!\")                                # Print the winning message\n",
    "        break                                            # The user won: exit the loop and end the game."
   ]
  },
  {
   "cell_type": "markdown",
   "metadata": {},
   "source": [
    "#### `Continue`: This code will have us greet a list of characters while avoiding any zombies and vampires."
   ]
  },
  {
   "cell_type": "markdown",
   "metadata": {},
   "source": [
    "Note that when we use the `continue` keyword, we don't need to use `elif` on following conditional statements because we are restarting the loop. Any conditionals after we execute `continue` are not checked."
   ]
  },
  {
   "cell_type": "code",
   "execution_count": null,
   "metadata": {},
   "outputs": [],
   "source": [
    "# Add or change any characters you'd like!\n",
    "characters = ['knight', 'zombie', 'wizard', 'zombie', 'elf', 'vampire']\n",
    "\n",
    "for character in characters:           # Loop through all the characters in our characters list\n",
    "    if character == 'zombie':          # Check if the current character is a zombie\n",
    "        continue                       # If it is a zombie, continue to the next character without greeting\n",
    "    if character == 'vampire':         # Do the same for vampires\n",
    "        continue\n",
    "    else:\n",
    "        print(f\"Hi, {character}!\")     # If we reach this code, we know the character is not a zombie or vampire"
   ]
  },
  {
   "cell_type": "markdown",
   "metadata": {},
   "source": [
    "#### `Pass`: This code will print numbers divisible by 3 but it won't print numbers divisible by 6."
   ]
  },
  {
   "cell_type": "markdown",
   "metadata": {},
   "source": [
    "In this example, we use `pass`, which is very similar to `continue`. But here, we do NOT want to use `continue` because we want to check all the conditionals in our loop."
   ]
  },
  {
   "cell_type": "code",
   "execution_count": null,
   "metadata": {},
   "outputs": [],
   "source": [
    "for num in range(1, 30):\n",
    "    if num % 6 == 0:        # Check if the number is divisible by 6\n",
    "        pass                # If it is, we don't do anything\n",
    "    elif num % 3 == 0:      # Check if the number is divisible by 3\n",
    "        print(num)          # If it is, we print it              "
   ]
  },
  {
   "cell_type": "markdown",
   "metadata": {},
   "source": [
    "### Please implement the code as indicated for each question in the code cell provided with comments:"
   ]
  },
  {
   "cell_type": "markdown",
   "metadata": {},
   "source": [
    "#### Q.1 We want to print all the ingredients in the list, but we are out of milk. If we get to \"milk\" element in the list, print \"We are out of milk!\" and stop printing ingredients."
   ]
  },
  {
   "cell_type": "code",
   "execution_count": 36,
   "metadata": {},
   "outputs": [],
   "source": [
    "ingredients = [\"eggs\", \"flour\", \"vanilla extract\", \"sugar\", \"milk\", \"vegetable oil\", \"water\"]\n",
    "\n",
    "# YOUR CODE HERE"
   ]
  },
  {
   "cell_type": "markdown",
   "metadata": {},
   "source": [
    "#### Q.2 Loop through the grades and print \"pass\" or \"fail\". If a grade is incomplete, print nothing."
   ]
  },
  {
   "cell_type": "code",
   "execution_count": null,
   "metadata": {},
   "outputs": [],
   "source": [
    "grades = [\"B\", \"incomplete\", \"A\", \"F\", \"C\", \"incomplete\", \"A\", \"F\"]\n",
    "\n",
    "# YOUR CODE HERE"
   ]
  },
  {
   "cell_type": "markdown",
   "metadata": {},
   "source": [
    "#### Q.3 Given a number, print a countdown to zero from that number, but do NOT print the number 7.\n",
    "Example: given `number = 10`, your code should print: `10 9 8 6 5 4 3 2 1`. "
   ]
  },
  {
   "cell_type": "code",
   "execution_count": null,
   "metadata": {},
   "outputs": [],
   "source": [
    "number = 10\n",
    "\n",
    "# YOUR CODE HERE"
   ]
  },
  {
   "cell_type": "markdown",
   "metadata": {},
   "source": [
    "## Beware of Infinite Loops!"
   ]
  },
  {
   "cell_type": "markdown",
   "metadata": {},
   "source": [
    "Now that you understand the power of loops, you let's look at one of their major pitfalls: infinite loops! Infinite loops occur when the condition which should call for the end of the loop never stops the loop. Below is one example of an infinite loop using badly video game logic:\n",
    "\n",
    "\n",
    "Suppose we want to program a video game character that is affected by gravity. We also want them to stop falling when they hit the floor. To do that, we could use a while loop to lower their height in space until they are at ground level, and then stop the loop. Here's what some code could look like to describe an object continually falling:\n",
    "```python\n",
    "height = 20 \n",
    "gravity = 9.8\n",
    "while height != 0: #stop the loop when they hit the floor\n",
    "    print(\"Oh no! I'm falling and I'm \" + str(height) + \" feet away from the ground!\")\n",
    "    height += -gravity #their distance from the ground is reduced by some amount\n",
    "```\n",
    "Can you see why this would produce an infinite loop?\n",
    "\n",
    "In general, infinite loops occur whenever there is a loop with nothing to stop it. They are easy to create on accident if you aren't clear about the end condition of your loop. Infinite loops are an issue because your code will not be able to complete anything--it will never finish! \n",
    "\n",
    "The biggest issue with infinite loops is not when you know they exist, but when you *don't* expect them"
   ]
  },
  {
   "cell_type": "markdown",
   "metadata": {},
   "source": [
    "## How to Break an Infinite Loop!\n",
    "Below is an example method to break an infinite loop. \n",
    "\n",
    "This works by checking the time each loop: if the time is more than 0.01 seconds past the start time, we `break` the loop!"
   ]
  },
  {
   "cell_type": "code",
   "execution_count": null,
   "metadata": {},
   "outputs": [],
   "source": [
    "import time\n",
    "start = time.time() # get an initial time in seconds\n",
    "steps = 0\n",
    "while True:\n",
    "    print(steps)\n",
    "    steps += 1\n",
    "    if time.time() > start + 0.0001: # if later than initial time by 0.0001 seconds, \n",
    "        break #break!"
   ]
  },
  {
   "cell_type": "markdown",
   "metadata": {},
   "source": [
    "We can also stop a loop by counting the number of iterations.\n",
    "\n",
    "### Q.4 Please modify the code below such that the otherwise inifinite loop stops at 100"
   ]
  },
  {
   "cell_type": "code",
   "execution_count": null,
   "metadata": {},
   "outputs": [],
   "source": [
    "iterations = 0\n",
    "while True:\n",
    "    print(f'Number of times this loop has run: {iterations}')\n",
    "    iterations += 1"
   ]
  },
  {
   "cell_type": "markdown",
   "metadata": {},
   "source": [
    "### Q.5 Please modify the code below such that the while loop stops once the person hits the ground"
   ]
  },
  {
   "cell_type": "code",
   "execution_count": null,
   "metadata": {},
   "outputs": [],
   "source": [
    "height = 20\n",
    "gravity = 9.8\n",
    "while height != 0:\n",
    "    print(\"Oh no! I'm falling and I'm \" + str(round(height,2)) + \" ft from the ground!\")\n",
    "    height += -gravity"
   ]
  }
 ],
 "metadata": {
  "kernelspec": {
   "display_name": "base",
   "language": "python",
   "name": "python3"
  },
  "language_info": {
   "codemirror_mode": {
    "name": "ipython",
    "version": 3
   },
   "file_extension": ".py",
   "mimetype": "text/x-python",
   "name": "python",
   "nbconvert_exporter": "python",
   "pygments_lexer": "ipython3",
   "version": "3.12.0"
  }
 },
 "nbformat": 4,
 "nbformat_minor": 2
}
