{
 "cells": [
  {
   "cell_type": "markdown",
   "metadata": {},
   "source": [
    "# NumPy Fundamentals: Array Basics"
   ]
  },
  {
   "cell_type": "markdown",
   "metadata": {},
   "source": [
    "Until now, we have focused on Python basics and built-in functions. In order to access specific packages, like NumPy, we need to import them like so:"
   ]
  },
  {
   "cell_type": "code",
   "execution_count": 27,
   "metadata": {},
   "outputs": [],
   "source": [
    "# import the numpy as the shorthand np\n",
    "import numpy as np"
   ]
  },
  {
   "cell_type": "markdown",
   "metadata": {},
   "source": [
    "Using a standardized alias like `np` saves us a little bit of time later."
   ]
  },
  {
   "cell_type": "markdown",
   "metadata": {},
   "source": [
    "## NumPy Arrays\n",
    "The most basic data structure in NumPy is an `ndarray`. \n",
    "The name `ndarray` comes from the fact that they can store \"n dimensions\" of data.\n",
    "\n",
    "Lastly, arrays are similar to lists in that they can be indexed with the same syntax; however, unlike lists, NumPy arrays must contain numeric data types. \n",
    "\n",
    "Let's start by defining a simple 1D array, which can also be referred to as a vector:"
   ]
  },
  {
   "cell_type": "code",
   "execution_count": 17,
   "metadata": {},
   "outputs": [
    {
     "name": "stdout",
     "output_type": "stream",
     "text": [
      "<class 'list'>\n",
      "<class 'numpy.ndarray'>\n"
     ]
    }
   ],
   "source": [
    "# Create a vector from a list\n",
    "my_list = [1,2,3,4]\n",
    "my_vector = np.array(my_list)\n",
    "print(type(my_list))\n",
    "print(type(my_vector))"
   ]
  },
  {
   "cell_type": "markdown",
   "metadata": {},
   "source": [
    "Using what we learned from Module 1, we can index the list and the vector exactly the same way:"
   ]
  },
  {
   "cell_type": "code",
   "execution_count": 15,
   "metadata": {},
   "outputs": [
    {
     "name": "stdout",
     "output_type": "stream",
     "text": [
      "The first element of the list: 1\n",
      "The first element of the vector: 1\n"
     ]
    }
   ],
   "source": [
    "# Index the first elements:\n",
    "print(f\"The first element of the list: { my_list[0] }\")\n",
    "print(f\"The first element of the vector: { my_vector[0] }\")"
   ]
  },
  {
   "cell_type": "markdown",
   "metadata": {},
   "source": [
    "### Silas -- Please write/demonstrate the following:\n",
    "1. Introduce 2D indexing and connect it back to how we learned `[][]` syntax in the Module 1 lecture\n",
    "2. Show basic 2D slicing\n",
    "3. Modifying elements by indexing them still works the same for 2D arrays"
   ]
  },
  {
   "cell_type": "code",
   "execution_count": 4,
   "metadata": {},
   "outputs": [
    {
     "name": "stdout",
     "output_type": "stream",
     "text": [
      "[[5 6]\n",
      " [7 8]]\n"
     ]
    }
   ],
   "source": [
    "my_nested_list = [[5,6], [7,8]]\n",
    "my_2d_array = np.array(my_nested_list)\n",
    "print(my_2d_array)"
   ]
  },
  {
   "cell_type": "markdown",
   "metadata": {},
   "source": [
    "### Silas -- Please write/demonstrate the following:\n",
    "1. Introduce 3D indexing\n",
    "2. Show basic 3D slicing\n",
    "2. Modifying elements by indexing them still works the same for 3D arrays"
   ]
  },
  {
   "cell_type": "code",
   "execution_count": 29,
   "metadata": {},
   "outputs": [
    {
     "name": "stdout",
     "output_type": "stream",
     "text": [
      "[[[ 5  6]\n",
      "  [ 7  8]]\n",
      "\n",
      " [[ 9 10]\n",
      "  [11 12]]]\n"
     ]
    }
   ],
   "source": [
    "my_3d_array = np.array([my_nested_list, [[9,10], [11,12]]])\n",
    "print(my_3d_array)"
   ]
  },
  {
   "cell_type": "markdown",
   "metadata": {},
   "source": [
    "## Doing Math With Arrays"
   ]
  },
  {
   "cell_type": "markdown",
   "metadata": {},
   "source": [
    "### Peter -- Please show the following:\n",
    "1. scalar multiplication of a simple vector\n",
    "2. introduce basic vector/elementwise math by showing: \n",
    "    - `u * u = u**2`\n",
    "    - `u * v` = ???\n",
    "    - `v/u` = ???"
   ]
  },
  {
   "cell_type": "code",
   "execution_count": 22,
   "metadata": {},
   "outputs": [],
   "source": [
    "u = np.array([1,2,3])\n",
    "v = np.array([5,10,15])"
   ]
  },
  {
   "cell_type": "markdown",
   "metadata": {},
   "source": [
    "## Common Array Constructors"
   ]
  },
  {
   "cell_type": "markdown",
   "metadata": {},
   "source": [
    "### Peter -- Please demonstrate the functionality and use cases for the following `np.array` constructors:\n",
    "- `np.zeros()`\n",
    "- `np.ones()`\n",
    "- `np.identity()` and explain what an identity matrix is \n",
    "- `np.nan()` and explain what `np.nan`/`NaN` is \n",
    "- `np.empty()` and highlight that the output is not exactly zero\n",
    "- `np.full()`\n",
    "- `np.tile()`\n",
    "\n",
    "Lastly, please compare `np.linspace` vs. `arange` vs. `range()`"
   ]
  },
  {
   "cell_type": "markdown",
   "metadata": {},
   "source": [
    "## Determining Matrix Size"
   ]
  },
  {
   "cell_type": "markdown",
   "metadata": {},
   "source": [
    "#### The `len()` function:"
   ]
  },
  {
   "cell_type": "markdown",
   "metadata": {},
   "source": [
    "The `len()` function in Python is short for \"length\". This function will return the number of elements in a collection. Let's see a quick example using a list: "
   ]
  },
  {
   "cell_type": "code",
   "execution_count": 25,
   "metadata": {},
   "outputs": [
    {
     "name": "stdout",
     "output_type": "stream",
     "text": [
      "3\n"
     ]
    }
   ],
   "source": [
    "my_list = [1, 2, 3]\n",
    "\n",
    "print(len(my_list))"
   ]
  },
  {
   "cell_type": "markdown",
   "metadata": {},
   "source": [
    "#### Why `len(my_list) = len(my_vector)` but `len(my_nested_list) != (my_2d_array)`:"
   ]
  },
  {
   "cell_type": "markdown",
   "metadata": {},
   "source": [
    "In addition to `my_list`, let's create `my_vector`. We will see that `len(my_list) = len(my_vector)` because they are both one-dimensional collections. In this case they each have 3 elements. "
   ]
  },
  {
   "cell_type": "code",
   "execution_count": 21,
   "metadata": {},
   "outputs": [
    {
     "name": "stdout",
     "output_type": "stream",
     "text": [
      "List length: 3\n",
      "Vector length: 3\n"
     ]
    }
   ],
   "source": [
    "my_list = [1, 2, 3]\n",
    "my_vector = [4, 5, 6]\n",
    "\n",
    "print(f\"List length: {len(my_list)}\")\n",
    "print(f\"Vector length: {len(my_vector)}\")"
   ]
  },
  {
   "cell_type": "markdown",
   "metadata": {},
   "source": [
    "Now let's create and compare `my_nested_list` and `my_2d_array`. As we saw, `len()` counts the number of elements in a list; in a nested list, the elements are more lists. In the 2D array, `len()` counts the number of rows. So even though we see six total elements in each, `len(my_nested_list) != len(my_2d_array)` because of the structure of the rows and columns in the array. "
   ]
  },
  {
   "cell_type": "code",
   "execution_count": 24,
   "metadata": {},
   "outputs": [
    {
     "name": "stdout",
     "output_type": "stream",
     "text": [
      "[[1, 2], [3, 4, 5], [6]]   Nested list length: 3 \n",
      "\n",
      "[[ 7  8  9]\n",
      " [10 11 12]]      2D array length: 2\n"
     ]
    }
   ],
   "source": [
    "my_nested_list = [[1, 2], [3, 4, 5], [6]]\n",
    "my_2d_array = np.array([[7, 8, 9], [10, 11, 12]])\n",
    "\n",
    "print(f\"{my_nested_list}   Nested list length: {len(my_nested_list)} \\n\")\n",
    "print(f\"{my_2d_array}      2D array length: {len(my_2d_array)}\")"
   ]
  },
  {
   "cell_type": "markdown",
   "metadata": {},
   "source": [
    "#### The `.shape()` and `.size()` array functions:"
   ]
  },
  {
   "cell_type": "markdown",
   "metadata": {},
   "source": [
    "With 2D arrays, we have a couple of functions similar to `len()`. We can use `.size` to return the total number of elements and we can use `.shape` to return the total number of rows and columns.\n",
    "\n",
    "`.size` is useful for if we want to iterate over every element in the array. `.shape` is useful for if we want to restructure the array or perform some matrix operation. \n",
    "\n",
    "In the following example, we have 6 total elements in the array, so `.size` will return 6. The array is organized into 3 rows and 2 columns, so `.shape` will return (2, 3)."
   ]
  },
  {
   "cell_type": "code",
   "execution_count": 28,
   "metadata": {},
   "outputs": [
    {
     "name": "stdout",
     "output_type": "stream",
     "text": [
      "[[4 5]\n",
      " [6 7]\n",
      " [8 9]] \n",
      "\n",
      "Size: 6\n",
      "Shape: (3, 2)\n"
     ]
    }
   ],
   "source": [
    "my_2d_array = np.array([[4, 5], [6, 7], [8, 9]])\n",
    "\n",
    "print(f\"{my_2d_array} \\n\")\n",
    "print(f\"Size: {my_2d_array.size}\")\n",
    "print(f\"Shape: {my_2d_array.shape}\")"
   ]
  }
 ],
 "metadata": {
  "kernelspec": {
   "display_name": "base",
   "language": "python",
   "name": "python3"
  },
  "language_info": {
   "codemirror_mode": {
    "name": "ipython",
    "version": 3
   },
   "file_extension": ".py",
   "mimetype": "text/x-python",
   "name": "python",
   "nbconvert_exporter": "python",
   "pygments_lexer": "ipython3",
   "version": "3.12.0"
  }
 },
 "nbformat": 4,
 "nbformat_minor": 2
}
