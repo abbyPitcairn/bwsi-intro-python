{
 "cells": [
  {
   "cell_type": "markdown",
   "metadata": {
    "vscode": {
     "languageId": "plaintext"
    }
   },
   "source": [
    "# Loops and Conditions: Nested Loops and Conditions"
   ]
  },
  {
   "cell_type": "markdown",
   "metadata": {},
   "source": [
    "Please follow the instructions and uncomment the skeleton code as necessary.\n",
    "\n",
    "This assignment is due in addition to the small group assignment before the next class"
   ]
  },
  {
   "cell_type": "markdown",
   "metadata": {},
   "source": [
    "## FizzBuzz Problem"
   ]
  },
  {
   "cell_type": "markdown",
   "metadata": {},
   "source": [
    "Write a short program that prints each number from 1 to 100 except:\n",
    "\n",
    "- For each multiple of 3, print \"Fizz\" instead of the number\n",
    "\n",
    "- For each multiple of 5, print \"Buzz\" instead of the number\n",
    "\n",
    "- For numbers which are multiples of both 3 and 5, print \"FizzBuzz\" instead of the number"
   ]
  },
  {
   "cell_type": "markdown",
   "metadata": {},
   "source": [
    "### Q.1 Please outline in words the steps that should be executed for each iteration of the loop"
   ]
  },
  {
   "cell_type": "markdown",
   "metadata": {},
   "source": [
    "### A.1 YOUR ANSWER HERE"
   ]
  },
  {
   "cell_type": "markdown",
   "metadata": {},
   "source": [
    "### Q.2 Please implement the solution described in Q.1 with comments"
   ]
  },
  {
   "cell_type": "code",
   "execution_count": null,
   "metadata": {},
   "outputs": [],
   "source": [
    "# YOUR ANSWER HERE"
   ]
  },
  {
   "cell_type": "markdown",
   "metadata": {},
   "source": [
    "## Understanding Code Flow"
   ]
  },
  {
   "cell_type": "markdown",
   "metadata": {},
   "source": [
    "### Q.3 Please complete the commented lines below with descriptions of the code as indicated. "
   ]
  },
  {
   "cell_type": "code",
   "execution_count": null,
   "metadata": {},
   "outputs": [],
   "source": [
    "# Create list to store prime numbers\n",
    "prime_numbers_list = []\n",
    "\n",
    "# This for loop iterates over <YOUR ANSWER HERE>\n",
    "for n in range(2,11):\n",
    "    # Set is_prime as True\n",
    "    is_prime = True\n",
    "    # This for loop iterates over <YOUR ANSWER HERE>\n",
    "    for k in range(2, n):\n",
    "        # This condition checks if <YOUR ANSWER HERE>\n",
    "        if n % k == 0:\n",
    "            # If n % k == 0, then <YOUR ANSWER HERE>\n",
    "            print(f\"{n} = {k} * {n // k}\")\n",
    "            is_prime = False\n",
    "            break\n",
    "    # This condition checks if is_prime is True\n",
    "    if is_prime:\n",
    "        # If n is prime, then print as output \n",
    "        # and append to list of prime numbers\n",
    "        print(f\"{n} is a prime number\")\n",
    "        prime_numbers_list.append(n)\n",
    "        \n",
    "print(f\"\\nList of prime numbers in range: {prime_numbers_list}\")"
   ]
  },
  {
   "cell_type": "markdown",
   "metadata": {},
   "source": [
    "### Q.4 In one sentence, what is the main objective of the code above?"
   ]
  },
  {
   "cell_type": "markdown",
   "metadata": {},
   "source": [
    "### A.4 YOUR ANSWER HERE"
   ]
  }
 ],
 "metadata": {
  "kernelspec": {
   "display_name": "base",
   "language": "python",
   "name": "python3"
  },
  "language_info": {
   "codemirror_mode": {
    "name": "ipython",
    "version": 3
   },
   "file_extension": ".py",
   "mimetype": "text/x-python",
   "name": "python",
   "nbconvert_exporter": "python",
   "pygments_lexer": "ipython3",
   "version": "3.12.0"
  }
 },
 "nbformat": 4,
 "nbformat_minor": 2
}
